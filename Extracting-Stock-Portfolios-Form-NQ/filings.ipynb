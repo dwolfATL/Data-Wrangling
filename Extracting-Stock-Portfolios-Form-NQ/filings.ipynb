{
 "cells": [
  {
   "cell_type": "markdown",
   "metadata": {
    "collapsed": true
   },
   "source": [
    "## Wrangling SEC Form N-Q from EDGAR\n",
    "\n",
    "Source files can be downloaded through this R package: https://github.com/cran/edgar/tree/master/R"
   ]
  },
  {
   "cell_type": "code",
   "execution_count": 1,
   "metadata": {
    "collapsed": true
   },
   "outputs": [],
   "source": [
    "import pandas as pd\n",
    "import numpy as np\n",
    "import glob\n",
    "import os\n",
    "from datetime import datetime\n",
    "from fuzzywuzzy import fuzz\n",
    "from fuzzywuzzy import process"
   ]
  },
  {
   "cell_type": "code",
   "execution_count": 2,
   "metadata": {
    "collapsed": false
   },
   "outputs": [],
   "source": [
    "# List of CIKs (Central Index Keys) and company names\n",
    "CIKs = pd.read_csv('CIKs.csv')\n",
    "\n",
    "# List of all publicly traded companies on NASDAQ and NYSE\n",
    "# Source: http://www.nasdaq.com/screening/company-list.aspx\n",
    "companies = pd.read_csv('companylist.csv')\n",
    "\n",
    "# Get a list of the first word of each company for matching purposes\n",
    "companies['Company_firstword'] = companies['Name'].str.split().str.get(0)\n"
   ]
  },
  {
   "cell_type": "markdown",
   "metadata": {},
   "source": [
    "#### Helper functions"
   ]
  },
  {
   "cell_type": "code",
   "execution_count": 3,
   "metadata": {
    "collapsed": true
   },
   "outputs": [],
   "source": [
    "# Used when identifying numeric columns\n",
    "def check_int(x):\n",
    "    try:\n",
    "        return int(x)\n",
    "    except ValueError:\n",
    "        return False\n",
    "\n",
    "# Applies fuzzywuzzy process function for fuzzy string matching\n",
    "def fuzzy_match(company, companies):\n",
    "    firstword = company.split()[0]\n",
    "    potential_companies = list(companies[companies['Company_firstword'] == firstword]['Name'])\n",
    "    return process.extractOne(company, potential_companies)[0]\n"
   ]
  },
  {
   "cell_type": "markdown",
   "metadata": {},
   "source": [
    "#### Main loop\n",
    "\n",
    "Loop through each file, parse it, identify Company and Share columns, and merge additional data"
   ]
  },
  {
   "cell_type": "code",
   "execution_count": 4,
   "metadata": {
    "collapsed": false
   },
   "outputs": [
    {
     "name": "stdout",
     "output_type": "stream",
     "text": [
      "1: 18748_N-Q_2017-04-28_003534.txt\n",
      "2: 45288_N-Q_2017-04-28_000544.txt\n",
      "3: 45291_N-Q_2017-03-30_000415.txt\n",
      "4: 47071_N-Q_2017-05-12_167941.txt\n",
      "5: 811968_N-Q_2017-03-31_000602.txt\n",
      "intermediate results written\n"
     ]
    }
   ],
   "source": [
    "file_path = 'filings_sample/'\n",
    "filings = [os.path.basename(x) for x in glob.glob(file_path + '*.txt')]\n",
    "\n",
    "counter = 0\n",
    "for filing in filings:\n",
    "    \n",
    "    # Allow continuation if error encountered\n",
    "    try:\n",
    "        # Track progress\n",
    "        counter += 1\n",
    "        print(str(counter) + ': ' + filing)\n",
    "        \n",
    "        # Read HTML and parse it into a single dataframe for each file\n",
    "        file_data = pd.read_html(file_path + filing, flavor='bs4')\n",
    "        df = pd.DataFrame(file_data[0])\n",
    "        for i in range(1,len(file_data)):\n",
    "            df = pd.concat([df,pd.DataFrame(file_data[i])])\n",
    "        df.dropna(how='all', inplace=True) # drop rows that are entirely NA\n",
    "        \n",
    "        # Find which column has the company names by counting first word matches\n",
    "        df_firstword = df.apply(lambda x: x.astype(str).str.split().str.get(0))\n",
    "        company_col = df_firstword.isin(list(companies['Company_firstword'])).sum().idxmax()\n",
    "        \n",
    "        # Remove all rows that do not have a company name\n",
    "        df['Company_firstword'] = df[company_col].str.split().str.get(0)\n",
    "        df['match'] = df['Company_firstword'].isin(list(companies['Company_firstword']))\n",
    "        df = df[df['match'] == True]\n",
    "        df = df.drop('match', axis=1)\n",
    "        \n",
    "        # Find the Shares column by finding the column with the most numeric values\n",
    "        df_num = df.applymap(lambda x: check_int(x))\n",
    "        numeric_cols = df_num.sum().nonzero()\n",
    "        shares_col = df.isnull().sum()[numeric_cols[0]].idxmin()\n",
    "        df = df[df_num[shares_col] != False]\n",
    "        \n",
    "        df.rename(columns={company_col: 'Company'}, inplace=True)\n",
    "        df.rename(columns={shares_col: 'Shares'}, inplace=True)\n",
    "        \n",
    "        # Add CIK, Fund name, Form type, Quarter, and File name, and reporting period to the data frame\n",
    "        CIK = filing.split(\"_\")[0]\n",
    "        df['CIK'] = CIK\n",
    "        df['Fund'] = CIKs.loc[CIKs['CIK'].astype(str) == CIK, 'COMPANY_NAME'].iloc[0]\n",
    "        df['Form'] = filing.split(\"_\")[1]\n",
    "        date = datetime.strptime(filing.split(\"_\")[2], '%Y-%m-%d')\n",
    "        df['Quarter_Filed'] = str(date.year) + 'Q' + str((date.month-1)//3 + 1)\n",
    "        df['File_Name'] = filing\n",
    "        # Extract the reporting period\n",
    "        with open (file_path + filing, \"r\") as myfile:\n",
    "            s=myfile.read().replace('\\n', '')\n",
    "        start = s.find('PERIOD OF REPORT') + 18\n",
    "        df['Report_Period'] = s[start:start + 8]\n",
    "        \n",
    "        df = df[['Company','Shares','CIK','Form','Fund','Quarter_Filed','File_Name','Report_Period']].copy()\n",
    "        df.dropna(inplace = True)\n",
    "        df.drop_duplicates(inplace = True)\n",
    "        \n",
    "        if counter == 1:\n",
    "            df_master = df\n",
    "        else:\n",
    "            df_master = pd.concat([df_master,df])\n",
    "        \n",
    "    except:\n",
    "        print(\"failed attempt\")\n",
    "        pass\n",
    "\n",
    "df_master.to_csv('df_master_intermediate.csv', index=False)\n",
    "print(\"intermediate results written\")"
   ]
  },
  {
   "cell_type": "code",
   "execution_count": 5,
   "metadata": {
    "collapsed": false
   },
   "outputs": [
    {
     "name": "stdout",
     "output_type": "stream",
     "text": [
      "complete\n"
     ]
    }
   ],
   "source": [
    "# Apply fuzzy match to company names\n",
    "df_master['Name'] = df_master.apply(lambda row: fuzzy_match(row['Company'], companies), axis = 1)\n",
    "\n",
    "# Bring in additional company data such as Sector, Industry, and Market Cap\n",
    "df_master = df_master.merge(companies, on='Name', how='left')\n",
    "\n",
    "\n",
    "df_master.to_csv('output.csv', index=False)\n",
    "print(\"complete\")"
   ]
  },
  {
   "cell_type": "code",
   "execution_count": null,
   "metadata": {
    "collapsed": true
   },
   "outputs": [],
   "source": []
  },
  {
   "cell_type": "code",
   "execution_count": null,
   "metadata": {
    "collapsed": true
   },
   "outputs": [],
   "source": []
  },
  {
   "cell_type": "code",
   "execution_count": null,
   "metadata": {
    "collapsed": true
   },
   "outputs": [],
   "source": []
  },
  {
   "cell_type": "code",
   "execution_count": 6,
   "metadata": {
    "collapsed": false
   },
   "outputs": [],
   "source": [
    "# For shifting files between directories based on quarter filed\n",
    "\n",
    "#from shutil import copyfile\n",
    "\n",
    "#file_path = 'E:\\DWolf\\Documents\\R\\EDGAR\\Edgar filings\\ALL_N-Q_2016\\\\'\n",
    "#filings = [os.path.basename(x) for x in glob.glob(file_path + '*.txt')]\n",
    "\n",
    "#for filing in filings:\n",
    "#    date = datetime.strptime(filing.split(\"_\")[2], '%Y-%m-%d')\n",
    "#    quarter = str(date.year) + 'Q' + str((date.month-1)//3 + 1)\n",
    "#    if quarter == '2016Q4':\n",
    "#        copyfile(file_path + filing, 'E:\\DWolf\\Documents\\R\\EDGAR\\Edgar filings\\ALL_N-Q_2016Q4\\\\' + filing)\n"
   ]
  },
  {
   "cell_type": "code",
   "execution_count": null,
   "metadata": {
    "collapsed": true
   },
   "outputs": [],
   "source": []
  }
 ],
 "metadata": {
  "anaconda-cloud": {},
  "kernelspec": {
   "display_name": "Python [conda root]",
   "language": "python",
   "name": "conda-root-py"
  },
  "language_info": {
   "codemirror_mode": {
    "name": "ipython",
    "version": 3
   },
   "file_extension": ".py",
   "mimetype": "text/x-python",
   "name": "python",
   "nbconvert_exporter": "python",
   "pygments_lexer": "ipython3",
   "version": "3.5.2"
  }
 },
 "nbformat": 4,
 "nbformat_minor": 1
}
